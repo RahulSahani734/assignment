{
 "cells": [
  {
   "cell_type": "code",
   "execution_count": null,
   "id": "e89228d1-2e7f-4871-99ce-4e8a098d92c6",
   "metadata": {},
   "outputs": [],
   "source": [
    "  Answer = 1\n",
    "    \n",
    "    variable=[\"Rahul\",\"Sahani\",[\"gold\",\"silver\",123, 1245,123.122 ,True,False,3+4j],567.234, (343,34.34,True, \"power\")]"
   ]
  },
  {
   "cell_type": "code",
   "execution_count": null,
   "id": "ca92a586-365e-417c-8866-b3cd48f56b48",
   "metadata": {},
   "outputs": [],
   "source": [
    " Answer = 2\n",
    "    \n",
    "    (i)\t  var1 = ‘ ‘                                it has no data type\n",
    "    (ii)\tvar2 = ‘[ DS , ML , Python]’            the data type of var2 is string\n",
    "    (iii)\tvar3 = [ ‘DS’ , ’ML’ , ‘Python’ ]        the data type of var3 is list\n",
    "    (iv)\tvar4 = 1                                   the data type of var4 is float "
   ]
  },
  {
   "cell_type": "code",
   "execution_count": 3,
   "id": "549b9cab-d97d-4d29-b523-d1510818a3e5",
   "metadata": {},
   "outputs": [],
   "source": [
    " Answer = 3  "
   ]
  },
  {
   "cell_type": "code",
   "execution_count": 2,
   "id": "e9503114-0b68-4998-95bc-b95cb5a4b96e",
   "metadata": {},
   "outputs": [],
   "source": [
    "# (i) / \n",
    " a=3\n",
    "s=3\n",
    "c=a/s  "
   ]
  },
  {
   "cell_type": "code",
   "execution_count": 3,
   "id": "3296c831-35a0-472b-b103-728d1b77aa6c",
   "metadata": {},
   "outputs": [
    {
     "data": {
      "text/plain": [
       "1.0"
      ]
     },
     "execution_count": 3,
     "metadata": {},
     "output_type": "execute_result"
    }
   ],
   "source": [
    "c"
   ]
  },
  {
   "cell_type": "code",
   "execution_count": 4,
   "id": "b3299716-1731-4e03-b0e6-e45ee69cf00a",
   "metadata": {},
   "outputs": [],
   "source": [
    "      # (ii) % \n",
    "a=4\n",
    "s=4\n",
    "c=a%s"
   ]
  },
  {
   "cell_type": "code",
   "execution_count": 5,
   "id": "b33b7783-5a8f-4fc1-be94-380939618e85",
   "metadata": {},
   "outputs": [
    {
     "data": {
      "text/plain": [
       "0"
      ]
     },
     "execution_count": 5,
     "metadata": {},
     "output_type": "execute_result"
    }
   ],
   "source": [
    "c"
   ]
  },
  {
   "cell_type": "code",
   "execution_count": 6,
   "id": "3ef5b9a0-ffe2-416a-937f-a53bdf52b5bc",
   "metadata": {},
   "outputs": [],
   "source": [
    "# (iii)\t//\n",
    "a=101\n",
    "s=4\n",
    "c=a//s\n",
    "\n"
   ]
  },
  {
   "cell_type": "code",
   "execution_count": 7,
   "id": "bd912a3d-cef6-4601-90a0-c3dd62936769",
   "metadata": {},
   "outputs": [
    {
     "data": {
      "text/plain": [
       "25"
      ]
     },
     "execution_count": 7,
     "metadata": {},
     "output_type": "execute_result"
    }
   ],
   "source": [
    "c"
   ]
  },
  {
   "cell_type": "code",
   "execution_count": 8,
   "id": "fe012d19-c496-4118-a315-5ea0165088ba",
   "metadata": {},
   "outputs": [],
   "source": [
    "# (iv)\t**\n",
    "a=7\n",
    "s=2\n",
    "c=a**s\n"
   ]
  },
  {
   "cell_type": "code",
   "execution_count": 9,
   "id": "885e61bf-d60e-4fdd-8029-5b1f929e5006",
   "metadata": {},
   "outputs": [
    {
     "data": {
      "text/plain": [
       "49"
      ]
     },
     "execution_count": 9,
     "metadata": {},
     "output_type": "execute_result"
    }
   ],
   "source": [
    "c"
   ]
  },
  {
   "cell_type": "code",
   "execution_count": null,
   "id": "8a4d8caa-b06b-45af-88d9-3f1252495cfa",
   "metadata": {},
   "outputs": [],
   "source": [
    "Answer =4"
   ]
  },
  {
   "cell_type": "code",
   "execution_count": 18,
   "id": "7ccbc7fb-03ee-4b6b-9be7-2956c4eff737",
   "metadata": {},
   "outputs": [
    {
     "name": "stdout",
     "output_type": "stream",
     "text": [
      "12\n",
      "134\n",
      "123.23\n",
      "rahul\n",
      "sahani\n",
      "True\n",
      "False\n",
      "(3+4j)\n"
     ]
    }
   ],
   "source": [
    "list = [12,134,123.23,\"rahul\",\"sahani\", True, False, 3+4j]\n",
    "for i in list:\n",
    "    print(i)"
   ]
  },
  {
   "cell_type": "code",
   "execution_count": 21,
   "id": "1a1c0507-36a1-44e1-a14b-6f7a244f85bd",
   "metadata": {},
   "outputs": [],
   "source": [
    "c= 4/2"
   ]
  },
  {
   "cell_type": "code",
   "execution_count": 22,
   "id": "106baadb-53d1-4756-9b30-fc888f5ad852",
   "metadata": {},
   "outputs": [
    {
     "data": {
      "text/plain": [
       "2.0"
      ]
     },
     "execution_count": 22,
     "metadata": {},
     "output_type": "execute_result"
    }
   ],
   "source": [
    "c"
   ]
  },
  {
   "cell_type": "code",
   "execution_count": null,
   "id": "152df92c-18d5-4684-9039-e0fb5f60d196",
   "metadata": {},
   "outputs": [],
   "source": [
    "Answer =4"
   ]
  },
  {
   "cell_type": "code",
   "execution_count": 1,
   "id": "a38bba5d-79b2-4b0b-9fa2-4ef7b4013040",
   "metadata": {},
   "outputs": [
    {
     "name": "stdin",
     "output_type": "stream",
     "text": [
      "Enter the number a:  456\n",
      "Enter the number b:  2\n"
     ]
    },
    {
     "name": "stdout",
     "output_type": "stream",
     "text": [
      " The number 2 is purely divisible by number 57.0  at 3 times.\n"
     ]
    }
   ],
   "source": [
    "a = int(input(\"Enter the number a: \"))\n",
    "b =  int(input(\"Enter the number b: \"))\n",
    "\n",
    "times = 0\n",
    "\n",
    "while a % b == 0:\n",
    "    a = a / b\n",
    "    times +=1\n",
    "    \n",
    "if times > 0:\n",
    "    print (f\" The number {b} is purely divisible by number {a}  at { times } times.\" )\n",
    "else:\n",
    "    print (f\"The number {b} is not purely divisible by number {b}.\")\n",
    "    \n",
    "    \n",
    "    \n"
   ]
  },
  {
   "cell_type": "code",
   "execution_count": 2,
   "id": "0b2ea800-73d1-486b-b015-03f2fbed54ef",
   "metadata": {},
   "outputs": [],
   "source": [
    "Answer = 6"
   ]
  },
  {
   "cell_type": "code",
   "execution_count": 12,
   "id": "2fc35d3d-8e43-4441-bca9-49f4db2e235d",
   "metadata": {},
   "outputs": [
    {
     "name": "stdout",
     "output_type": "stream",
     "text": [
      "[1, 2, 3, 4, 5, 6, 7, 8, 9, 10, 11, 12, 1314, 15, 16, 17, 18, 19, 20, 21, 22, 23, 24, 25]\n",
      " {i} is not divisible by 3\n",
      " {i} is not divisible by 3\n",
      " {i} is divisible by 3\n",
      " {i} is not divisible by 3\n",
      " {i} is not divisible by 3\n",
      " {i} is divisible by 3\n",
      " {i} is not divisible by 3\n",
      " {i} is not divisible by 3\n",
      " {i} is divisible by 3\n",
      " {i} is not divisible by 3\n",
      " {i} is not divisible by 3\n",
      " {i} is divisible by 3\n",
      " {i} is divisible by 3\n",
      " {i} is divisible by 3\n",
      " {i} is not divisible by 3\n",
      " {i} is not divisible by 3\n",
      " {i} is divisible by 3\n",
      " {i} is not divisible by 3\n",
      " {i} is not divisible by 3\n",
      " {i} is divisible by 3\n",
      " {i} is not divisible by 3\n",
      " {i} is not divisible by 3\n",
      " {i} is divisible by 3\n",
      " {i} is not divisible by 3\n"
     ]
    }
   ],
   "source": [
    "list =  [1,2,3,4,5,6,7,8,9,10,11,12,1314,15,16,17,18,19,20,21,22,23,24,25]\n",
    "print(list)\n",
    "for i in list:\n",
    "    if i % 3 == 0:\n",
    "        print(\" {i} is divisible by 3\")\n",
    "    else:\n",
    "        print(\" {i} is not divisible by 3\")\n",
    "\n",
    "    "
   ]
  },
  {
   "cell_type": "code",
   "execution_count": 13,
   "id": "fb3160a9-7dec-405e-8613-4da6ece3089e",
   "metadata": {},
   "outputs": [],
   "source": [
    "answer = 7"
   ]
  },
  {
   "cell_type": "code",
   "execution_count": null,
   "id": "e3a13417-fe97-43e0-827f-206d51589b0a",
   "metadata": {},
   "outputs": [],
   "source": [
    "An immutable object is an object whose value cannot be changed once it is created. Any operation that appears to modify an immutable\n",
    "object actually creates a new object with the modified value. Examples of immutable data types in Python include integers, floats, complex\n",
    "numbers, strings, and tuples"
   ]
  },
  {
   "cell_type": "code",
   "execution_count": 15,
   "id": "0a462ad2-b6bc-41cb-a7e9-89c3ab836121",
   "metadata": {},
   "outputs": [
    {
     "ename": "TypeError",
     "evalue": "'set' object does not support item assignment",
     "output_type": "error",
     "traceback": [
      "\u001b[0;31m---------------------------------------------------------------------------\u001b[0m",
      "\u001b[0;31mTypeError\u001b[0m                                 Traceback (most recent call last)",
      "Cell \u001b[0;32mIn[15], line 3\u001b[0m\n\u001b[1;32m      1\u001b[0m \u001b[38;5;66;03m# Creating a set\u001b[39;00m\n\u001b[1;32m      2\u001b[0m my_set \u001b[38;5;241m=\u001b[39m{ \u001b[38;5;241m1\u001b[39m, \u001b[38;5;241m2\u001b[39m, \u001b[38;5;241m3\u001b[39m}\n\u001b[0;32m----> 3\u001b[0m \u001b[43mmy_set\u001b[49m\u001b[43m \u001b[49m\u001b[43m[\u001b[49m\u001b[38;5;241;43m2\u001b[39;49m\u001b[43m]\u001b[49m\u001b[38;5;241m=\u001b[39m\u001b[38;5;241m3\u001b[39m\n",
      "\u001b[0;31mTypeError\u001b[0m: 'set' object does not support item assignment"
     ]
    }
   ],
   "source": [
    "# Creating a set\n",
    "my_set ={ 1, 2, 3}\n",
    "my_set [2]=3\n"
   ]
  },
  {
   "cell_type": "code",
   "execution_count": null,
   "id": "4bcc46db-c3f3-4e13-b21e-2b06c585f5a8",
   "metadata": {},
   "outputs": [],
   "source": [
    "A mutable object, on the other hand, is an object whose value can be changed once it is created. Examples of mutable\n",
    "data types in Python include lists, dictionaries, and sets."
   ]
  },
  {
   "cell_type": "code",
   "execution_count": 16,
   "id": "80138def-3b6d-49e6-944d-bb0daa66db49",
   "metadata": {},
   "outputs": [],
   "source": [
    "list= [\"hot\",\"cool\",3,4,5.34,True]\n",
    "list[2]= \"mixture\""
   ]
  },
  {
   "cell_type": "code",
   "execution_count": 17,
   "id": "fb510d31-de2d-42b8-9679-9e464713f217",
   "metadata": {},
   "outputs": [
    {
     "data": {
      "text/plain": [
       "['hot', 'cool', 'mixture', 4, 5.34, True]"
      ]
     },
     "execution_count": 17,
     "metadata": {},
     "output_type": "execute_result"
    }
   ],
   "source": [
    "list"
   ]
  },
  {
   "cell_type": "code",
   "execution_count": null,
   "id": "dba89548-61d0-42cb-bf2b-0839c2db0817",
   "metadata": {},
   "outputs": [],
   "source": []
  }
 ],
 "metadata": {
  "kernelspec": {
   "display_name": "Python 3 (ipykernel)",
   "language": "python",
   "name": "python3"
  },
  "language_info": {
   "codemirror_mode": {
    "name": "ipython",
    "version": 3
   },
   "file_extension": ".py",
   "mimetype": "text/x-python",
   "name": "python",
   "nbconvert_exporter": "python",
   "pygments_lexer": "ipython3",
   "version": "3.10.8"
  }
 },
 "nbformat": 4,
 "nbformat_minor": 5
}
