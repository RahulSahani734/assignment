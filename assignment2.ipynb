{
 "cells": [
  {
   "cell_type": "code",
   "execution_count": 1,
   "id": "f371bc4b-a585-453a-bfa4-b5c5bd28ba09",
   "metadata": {},
   "outputs": [],
   "source": [
    "Answer = 1 "
   ]
  },
  {
   "cell_type": "code",
   "execution_count": null,
   "id": "14e2c4b0-c55f-4767-be9d-33ac77fb58dd",
   "metadata": {},
   "outputs": [],
   "source": [
    " In python we can commint a code using # so word words or a code will not execute . Types- There are two most comman commints are single line commint and multi line commints\n",
    "\n",
    "Single line commints are use to commint code using #\n",
    "Multi line commint used to commint code using (\"\"\" xyz \"\"\" or ''' xyz ''')"
   ]
  },
  {
   "cell_type": "code",
   "execution_count": null,
   "id": "924d15b8-a599-4f07-8bb0-9dbff479fdaf",
   "metadata": {},
   "outputs": [],
   "source": [
    "#Single line commints \n",
    "#This is single line commint \n",
    "\n",
    "''''Multi line commint \n",
    "This is a multi line commint \n",
    "x = 20 \n",
    "y = 29 \n",
    "z = x - y \n",
    "print(z)\n"
   ]
  },
  {
   "cell_type": "code",
   "execution_count": 2,
   "id": "78e7a9da-fda0-4bf0-8c1f-d7a14a4f47cf",
   "metadata": {},
   "outputs": [],
   "source": [
    "Answer = 2"
   ]
  },
  {
   "cell_type": "code",
   "execution_count": null,
   "id": "ea0697f8-98e1-4552-b837-bdfedd6110c7",
   "metadata": {},
   "outputs": [],
   "source": [
    "Variables in python is like a continer which contain the values in python we do't need to intitialize it with data type like other programming language.\n",
    "\n",
    "When initializing variables in Python, there are a few rules and conventions to keep in mind:\n",
    "    \n",
    "   1. Variable Names: Choose meaningful and descriptive names for your variables to improve code readability. Variable names can consist of\n",
    "         letters (a-z, A-Z), digits (0-9), and underscores (_). They should start with a letter or an underscore but cannot start with a digit. Python\n",
    "         is case-sensitive, so 'myVariable' and 'myvariable' would be treated as two different variables\n",
    "   2. Avoid Reserved Words: Do not use reserved words or keywords as variable names since they have predefined meanings in Python. For example,\n",
    "         you cannot use if, while, for, def, class, or import as variable names \n",
    "   3.Initialization: It is not mandatory to initialize variables at the time of declaration. However, it's good practice to initialize variables\n",
    "         with an initial value to avoid potential errors or confusion. Uninitialized variables will have a default value of None until assigned  \n",
    "          a value\n",
    "  4. Dynamic Typing: Python is dynamically typed, meaning you can assign values of different types to the same variable. You don't need to\n",
    "          explicitly declare the type of a variable, as Python determines it based on the assigned value. For example, x = 5 will creat \n",
    "           e an integer variable, while x = \"Hello\" will create a string variable  \n",
    "  5. Constants: In Python, there is no strict concept of constants. However, it is conventionally followed to use uppercase names to indicate\n",
    "           that a variable's value should not be changed. Although the value can still be modified, it signals to other developers that it is\n",
    "            intended to be constant. For example, PI = 3.14159     \n",
    "  6. Reassignment: You can assign a new value to an existing variable at any point in your code. Python allows variables to be reassigned with \n",
    "          values of different types. For example, you can assign an integer value initially and later assign it a string value\n",
    "   7. Scope: Variables have a scope, which defines where they can be accessed. Variables declared within a function have local scope and are\n",
    "        only accessible within that function. Variables declared outside any function, at the module level, have global scope and can be\n",
    "        baccessed throughout the module "
   ]
  },
  {
   "cell_type": "code",
   "execution_count": 6,
   "id": "c43c98e0-1ad1-445d-b612-826e88a4c434",
   "metadata": {},
   "outputs": [
    {
     "name": "stdout",
     "output_type": "stream",
     "text": [
      "my name is rahul  my age is  19\n",
      "my name  is rahul my age is 19\n"
     ]
    }
   ],
   "source": [
    "\n",
    "# we can declare and assign values to variables like this \n",
    "name = \"rahul \"\n",
    "age = 19\n",
    "print('my name is' ,name, 'my age is ' , age , )\n",
    "print(f\"my name  is {name}my age is {age}\")"
   ]
  },
  {
   "cell_type": "code",
   "execution_count": 7,
   "id": "4f55c837-c1c7-4a96-beae-b6a37f5b551a",
   "metadata": {},
   "outputs": [],
   "source": [
    "Answer =3\n"
   ]
  },
  {
   "cell_type": "code",
   "execution_count": 9,
   "id": "84954236-e414-491f-b5f4-90f1323a7ff0",
   "metadata": {},
   "outputs": [
    {
     "name": "stdout",
     "output_type": "stream",
     "text": [
      "<class 'int'>\n",
      "<class 'str'>\n"
     ]
    }
   ],
   "source": [
    " # We can convert one data type into another like this\n",
    "age = 20 \n",
    "print(type(age))\n",
    "age = str(age)\n",
    "print(type(age))\n",
    "    "
   ]
  },
  {
   "cell_type": "code",
   "execution_count": 10,
   "id": "7e89e1f3-71bc-44e7-90a8-a52dd2c24f0c",
   "metadata": {},
   "outputs": [],
   "source": [
    "Answer = 4\n"
   ]
  },
  {
   "cell_type": "code",
   "execution_count": null,
   "id": "da827004-7cc3-4f55-aeee-0f4752d734e1",
   "metadata": {},
   "outputs": [],
   "source": [
    "We will first creat a file in our device and then write a code then we save it .\n",
    "\n",
    "   1. Then we open a terminal or command line and type 'python3 file_name.py' and execute it if the directory of that file is diffrent so we can\n",
    "      change the directory using \"cd \" command "
   ]
  },
  {
   "cell_type": "code",
   "execution_count": 11,
   "id": "5246300f-91a7-4e54-92b6-1e38da8f1877",
   "metadata": {},
   "outputs": [],
   "source": [
    "Answer = 5"
   ]
  },
  {
   "cell_type": "code",
   "execution_count": 12,
   "id": "29c14c5e-6317-4142-8570-2850c51243ba",
   "metadata": {},
   "outputs": [
    {
     "name": "stdout",
     "output_type": "stream",
     "text": [
      "[2, 3]\n"
     ]
    }
   ],
   "source": [
    "\n",
    "#Ex- \n",
    "my_list = [1, 2, 3, 4, 5]\n",
    "print(my_list[1:3])"
   ]
  },
  {
   "cell_type": "code",
   "execution_count": 13,
   "id": "1d3a6be0-b2c3-4b4b-bc25-a505423fbd43",
   "metadata": {},
   "outputs": [],
   "source": [
    "Answer = 6"
   ]
  },
  {
   "cell_type": "code",
   "execution_count": null,
   "id": "2b968760-705e-43a9-b1c4-34604cd6f3d3",
   "metadata": {},
   "outputs": [],
   "source": [
    "In maths complex number contain both real part and imagenary part , which is expresed as a +bi , a is the real part and b is the imagenary part\n",
    "\n",
    "1. in  Python, complex numbers are supported as a built-in numeric data type. They are represented using the complex class, and the\n",
    "    imaginary part is denoted by appending a \"j\" or \"J\" to the number. The real and imaginary parts can be integers, floating-point\n",
    "     numbers, or expressions that evaluate to numbers.\n"
   ]
  },
  {
   "cell_type": "code",
   "execution_count": 14,
   "id": "4b7c0d80-7481-46b7-ae8a-eab0e09b8c61",
   "metadata": {},
   "outputs": [
    {
     "name": "stdout",
     "output_type": "stream",
     "text": [
      "<class 'complex'>\n"
     ]
    }
   ],
   "source": [
    "\n",
    "#in python complex number \n",
    "complexnum = 2 + 4j\n",
    "print(type(complexnum))"
   ]
  },
  {
   "cell_type": "code",
   "execution_count": 15,
   "id": "d8c5be1d-8198-42f1-b757-dc13174a42d4",
   "metadata": {},
   "outputs": [],
   "source": [
    "Answer = 7 "
   ]
  },
  {
   "cell_type": "code",
   "execution_count": 16,
   "id": "c73c7d7a-1288-4703-9694-66ab548386f2",
   "metadata": {},
   "outputs": [
    {
     "name": "stdout",
     "output_type": "stream",
     "text": [
      "25\n",
      "<class 'int'>\n"
     ]
    }
   ],
   "source": [
    "age = 25\n",
    "print(age)\n",
    "print(type(age))"
   ]
  },
  {
   "cell_type": "code",
   "execution_count": 17,
   "id": "933a75d0-7811-4dd4-a949-284cbc3eeae6",
   "metadata": {},
   "outputs": [],
   "source": [
    "Answer = 8"
   ]
  },
  {
   "cell_type": "code",
   "execution_count": 18,
   "id": "a75da44c-a5b8-4d93-8983-15e71159233c",
   "metadata": {},
   "outputs": [
    {
     "name": "stdout",
     "output_type": "stream",
     "text": [
      "9.99\n",
      "<class 'float'>\n"
     ]
    }
   ],
   "source": [
    "price = 9.99\n",
    "print(price)\n",
    "print(type(price))"
   ]
  },
  {
   "cell_type": "code",
   "execution_count": 19,
   "id": "e37abcdb-0ea4-4132-9670-57bf1d106563",
   "metadata": {},
   "outputs": [],
   "source": [
    "Answer = 9 "
   ]
  },
  {
   "cell_type": "code",
   "execution_count": 20,
   "id": "4899dda6-30b6-4acf-a17b-b8db22cc9d5e",
   "metadata": {},
   "outputs": [
    {
     "name": "stdout",
     "output_type": "stream",
     "text": [
      "kuldeep rajak\n"
     ]
    }
   ],
   "source": [
    "name = 'kuldeep rajak'\n",
    "print(name)"
   ]
  },
  {
   "cell_type": "code",
   "execution_count": 21,
   "id": "99cec164-f4a1-4d8f-baf6-459b49d1c36c",
   "metadata": {},
   "outputs": [],
   "source": [
    "Answer = 10"
   ]
  },
  {
   "cell_type": "code",
   "execution_count": 23,
   "id": "df6f7257-5e53-46d0-ba07-8069f71f8d83",
   "metadata": {},
   "outputs": [
    {
     "name": "stdout",
     "output_type": "stream",
     "text": [
      "World\n"
     ]
    }
   ],
   "source": [
    " string =  \"Hello, World!\"\n",
    "print(string[7:12])"
   ]
  },
  {
   "cell_type": "code",
   "execution_count": 1,
   "id": "89c84d71-8206-4ce8-a3d4-933a61bf0963",
   "metadata": {},
   "outputs": [],
   "source": [
    "Answer  = 11 "
   ]
  },
  {
   "cell_type": "code",
   "execution_count": null,
   "id": "cc92f9b0-a83c-4823-a523-a7def7bef65e",
   "metadata": {},
   "outputs": [],
   "source": [
    "is_student = True\n",
    "\n",
    "\n",
    "is_student = input(\"type True if you are a student or type False if you are not a student\")\n",
    "if is_student == True:\n",
    "    print(\"you are a student\")\n",
    "else:\n",
    "     print(\"you are not  a student\")\n",
    "    "
   ]
  },
  {
   "cell_type": "code",
   "execution_count": null,
   "id": "07a6f7e5-c8e9-4a64-b7a0-78c26981634e",
   "metadata": {},
   "outputs": [],
   "source": []
  }
 ],
 "metadata": {
  "kernelspec": {
   "display_name": "Python 3 (ipykernel)",
   "language": "python",
   "name": "python3"
  },
  "language_info": {
   "codemirror_mode": {
    "name": "ipython",
    "version": 3
   },
   "file_extension": ".py",
   "mimetype": "text/x-python",
   "name": "python",
   "nbconvert_exporter": "python",
   "pygments_lexer": "ipython3",
   "version": "3.10.8"
  }
 },
 "nbformat": 4,
 "nbformat_minor": 5
}
